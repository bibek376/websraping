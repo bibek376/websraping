{
 "cells": [
  {
   "cell_type": "code",
   "execution_count": 19,
   "metadata": {},
   "outputs": [
    {
     "name": "stdout",
     "output_type": "stream",
     "text": [
      "24\n",
      "24\n",
      "                                                 name    price\n",
      "0   Dell G5 15 SE Ryzen 5 Hexa Core 4600H - (8 GB/...  ₹74,990\n",
      "1   Acer Aspire 5 Core i5 10th Gen - (8 GB/512 GB ...  ₹47,990\n",
      "2   Acer Aspire 7 Core i5 9th Gen - (8 GB/512 GB S...  ₹49,990\n",
      "3   Lenovo Ideapad L340 Core i5 9th Gen - (8 GB/1 ...  ₹55,990\n",
      "4   Apple MacBook Air Core i5 5th Gen - (8 GB/128 ...  ₹59,990\n",
      "5   HP 14s Core i3 10th Gen - (8 GB/256 GB SSD/Win...  ₹35,990\n",
      "6   Asus VivoBook 14 Core i5 10th Gen - (8 GB/1 TB...  ₹47,990\n",
      "7   Dell G5 15 SE Ryzen 5 Hexa Core 4600H - (8 GB/...  ₹74,990\n",
      "8   Dell Inspiron 3000 Core i5 10th Gen - (8 GB/1 ...  ₹55,990\n",
      "9   HP 15s Core i5 10th Gen - (8 GB/1 TB HDD/256 G...  ₹63,990\n",
      "10  HP 15s Core i5 10th Gen - (8 GB/1 TB HDD/Windo...  ₹51,990\n",
      "11  Acer Nitro 5 Core i5 10th Gen - (8 GB/1 TB HDD...  ₹66,990\n",
      "12  MSI GF75 Thin Core i7 9th Gen - (16 GB/1 TB HD...  ₹75,990\n",
      "13  Acer One 14 Pentium Dual Core - (4 GB/1 TB HDD...  ₹19,990\n",
      "14  Lenovo Ideapad L340 Core i7 9th Gen - (8 GB/1 ...  ₹65,990\n",
      "15  Asus TUF Ryzen 5 Quad Core 3550H - (8 GB/512 G...  ₹54,990\n",
      "16  HP Pavilion Gaming Ryzen 5 Quad Core 3550H - (...  ₹52,990\n",
      "17  Apple MacBook Air Core i3 10th Gen - (8 GB/256...  ₹83,990\n",
      "18  HP Pavilion x360 Core i3 10th Gen - (8 GB/512 ...  ₹52,490\n",
      "19  MSI Bravo 15 Ryzen 5 Hexa Core 4600H - (16 GB/...  ₹69,990\n",
      "20  Lenovo Ideapad S340 Core i5 10th Gen - (8 GB/1...  ₹54,990\n",
      "21  Asus VivoBook 14 Core i3 10th Gen - (4 GB/256 ...  ₹35,990\n",
      "22  Lenovo IdeaPad Gaming 3i Core i7 10th Gen - (8...  ₹71,990\n",
      "23  Asus TUF Ryzen 7 Quad Core 3750H - (8 GB/512 G...  ₹59,990\n"
     ]
    }
   ],
   "source": [
    "from bs4 import BeautifulSoup\n",
    "import requests\n",
    "import pandas as pd\n",
    "url=BeautifulSoup(\"https://www.flipkart.com/search?q=laptop&sid=6bo%2Cb5g&as=on&as-show=on&otracker=AS_QueryStore_OrganicAutoSuggest_1_3_na_na_na&otracker1=AS_QueryStore_OrganicAutoSuggest_1_3_na_na_na&as-pos=1&as-type=HISTORY&suggestionId=laptop%7CLaptops&requestId=b236a639-8d47-43a9-a9a2-5bdcd60701d2\",\"html.parser\")\n",
    "start=requests.get(url)\n",
    "s1=start.text\n",
    "soup=BeautifulSoup(s1,\"lxml\")\n",
    "name=soup.select(\"._3wU53n\")\n",
    "price=soup.select(\"._1vC4OE._2rQ-NK\")\n",
    "details=pd.DataFrame(columns=(\"name\",\"price\"))\n",
    "l=0\n",
    "for i,j in zip(name,price):\n",
    "    details.loc[l]=i.text,j.text;\n",
    "    l+=1\n",
    "print(len(details))\n",
    "print(l)\n",
    "print(details)"
   ]
  },
  {
   "cell_type": "code",
   "execution_count": 12,
   "metadata": {},
   "outputs": [],
   "source": [
    "details.to_csv(\"abc.csv\")"
   ]
  },
  {
   "cell_type": "code",
   "execution_count": null,
   "metadata": {},
   "outputs": [],
   "source": []
  }
 ],
 "metadata": {
  "kernelspec": {
   "display_name": "Python 3",
   "language": "python",
   "name": "python3"
  },
  "language_info": {
   "codemirror_mode": {
    "name": "ipython",
    "version": 3
   },
   "file_extension": ".py",
   "mimetype": "text/x-python",
   "name": "python",
   "nbconvert_exporter": "python",
   "pygments_lexer": "ipython3",
   "version": "3.8.3"
  }
 },
 "nbformat": 4,
 "nbformat_minor": 4
}
